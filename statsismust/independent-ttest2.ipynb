{
 "cells": [
  {
   "cell_type": "code",
   "execution_count": 92,
   "id": "3ea4b142",
   "metadata": {},
   "outputs": [],
   "source": [
    "import pandas as pd \n",
    "import numpy as np \n",
    "from scipy.stats import shapiro \n"
   ]
  },
  {
   "cell_type": "code",
   "execution_count": 93,
   "id": "a7ccf756",
   "metadata": {},
   "outputs": [],
   "source": [
    "# This is to inference for population. Is there any correlation between age and Sex\n",
    "\n",
    "# Ho : average age of male = average age of female\n",
    "# Ha : average age of male is significantly greater then average age of females"
   ]
  },
  {
   "cell_type": "code",
   "execution_count": 94,
   "id": "81cc96f4",
   "metadata": {},
   "outputs": [
    {
     "data": {
      "text/html": [
       "<div>\n",
       "<style scoped>\n",
       "    .dataframe tbody tr th:only-of-type {\n",
       "        vertical-align: middle;\n",
       "    }\n",
       "\n",
       "    .dataframe tbody tr th {\n",
       "        vertical-align: top;\n",
       "    }\n",
       "\n",
       "    .dataframe thead th {\n",
       "        text-align: right;\n",
       "    }\n",
       "</style>\n",
       "<table border=\"1\" class=\"dataframe\">\n",
       "  <thead>\n",
       "    <tr style=\"text-align: right;\">\n",
       "      <th></th>\n",
       "      <th>PassengerId</th>\n",
       "      <th>Survived</th>\n",
       "      <th>Pclass</th>\n",
       "      <th>Name</th>\n",
       "      <th>Sex</th>\n",
       "      <th>Age</th>\n",
       "      <th>SibSp</th>\n",
       "      <th>Parch</th>\n",
       "      <th>Ticket</th>\n",
       "      <th>Fare</th>\n",
       "      <th>Cabin</th>\n",
       "      <th>Embarked</th>\n",
       "    </tr>\n",
       "  </thead>\n",
       "  <tbody>\n",
       "    <tr>\n",
       "      <th>0</th>\n",
       "      <td>1</td>\n",
       "      <td>0</td>\n",
       "      <td>3</td>\n",
       "      <td>Braund, Mr. Owen Harris</td>\n",
       "      <td>male</td>\n",
       "      <td>22.0</td>\n",
       "      <td>1</td>\n",
       "      <td>0</td>\n",
       "      <td>A/5 21171</td>\n",
       "      <td>7.2500</td>\n",
       "      <td>NaN</td>\n",
       "      <td>S</td>\n",
       "    </tr>\n",
       "    <tr>\n",
       "      <th>1</th>\n",
       "      <td>2</td>\n",
       "      <td>1</td>\n",
       "      <td>1</td>\n",
       "      <td>Cumings, Mrs. John Bradley (Florence Briggs Th...</td>\n",
       "      <td>female</td>\n",
       "      <td>38.0</td>\n",
       "      <td>1</td>\n",
       "      <td>0</td>\n",
       "      <td>PC 17599</td>\n",
       "      <td>71.2833</td>\n",
       "      <td>C85</td>\n",
       "      <td>C</td>\n",
       "    </tr>\n",
       "    <tr>\n",
       "      <th>2</th>\n",
       "      <td>3</td>\n",
       "      <td>1</td>\n",
       "      <td>3</td>\n",
       "      <td>Heikkinen, Miss. Laina</td>\n",
       "      <td>female</td>\n",
       "      <td>26.0</td>\n",
       "      <td>0</td>\n",
       "      <td>0</td>\n",
       "      <td>STON/O2. 3101282</td>\n",
       "      <td>7.9250</td>\n",
       "      <td>NaN</td>\n",
       "      <td>S</td>\n",
       "    </tr>\n",
       "    <tr>\n",
       "      <th>3</th>\n",
       "      <td>4</td>\n",
       "      <td>1</td>\n",
       "      <td>1</td>\n",
       "      <td>Futrelle, Mrs. Jacques Heath (Lily May Peel)</td>\n",
       "      <td>female</td>\n",
       "      <td>35.0</td>\n",
       "      <td>1</td>\n",
       "      <td>0</td>\n",
       "      <td>113803</td>\n",
       "      <td>53.1000</td>\n",
       "      <td>C123</td>\n",
       "      <td>S</td>\n",
       "    </tr>\n",
       "    <tr>\n",
       "      <th>4</th>\n",
       "      <td>5</td>\n",
       "      <td>0</td>\n",
       "      <td>3</td>\n",
       "      <td>Allen, Mr. William Henry</td>\n",
       "      <td>male</td>\n",
       "      <td>35.0</td>\n",
       "      <td>0</td>\n",
       "      <td>0</td>\n",
       "      <td>373450</td>\n",
       "      <td>8.0500</td>\n",
       "      <td>NaN</td>\n",
       "      <td>S</td>\n",
       "    </tr>\n",
       "    <tr>\n",
       "      <th>5</th>\n",
       "      <td>6</td>\n",
       "      <td>0</td>\n",
       "      <td>3</td>\n",
       "      <td>Moran, Mr. James</td>\n",
       "      <td>male</td>\n",
       "      <td>NaN</td>\n",
       "      <td>0</td>\n",
       "      <td>0</td>\n",
       "      <td>330877</td>\n",
       "      <td>8.4583</td>\n",
       "      <td>NaN</td>\n",
       "      <td>Q</td>\n",
       "    </tr>\n",
       "  </tbody>\n",
       "</table>\n",
       "</div>"
      ],
      "text/plain": [
       "   PassengerId  Survived  Pclass  \\\n",
       "0            1         0       3   \n",
       "1            2         1       1   \n",
       "2            3         1       3   \n",
       "3            4         1       1   \n",
       "4            5         0       3   \n",
       "5            6         0       3   \n",
       "\n",
       "                                                Name     Sex   Age  SibSp  \\\n",
       "0                            Braund, Mr. Owen Harris    male  22.0      1   \n",
       "1  Cumings, Mrs. John Bradley (Florence Briggs Th...  female  38.0      1   \n",
       "2                             Heikkinen, Miss. Laina  female  26.0      0   \n",
       "3       Futrelle, Mrs. Jacques Heath (Lily May Peel)  female  35.0      1   \n",
       "4                           Allen, Mr. William Henry    male  35.0      0   \n",
       "5                                   Moran, Mr. James    male   NaN      0   \n",
       "\n",
       "   Parch            Ticket     Fare Cabin Embarked  \n",
       "0      0         A/5 21171   7.2500   NaN        S  \n",
       "1      0          PC 17599  71.2833   C85        C  \n",
       "2      0  STON/O2. 3101282   7.9250   NaN        S  \n",
       "3      0            113803  53.1000  C123        S  \n",
       "4      0            373450   8.0500   NaN        S  \n",
       "5      0            330877   8.4583   NaN        Q  "
      ]
     },
     "execution_count": 94,
     "metadata": {},
     "output_type": "execute_result"
    }
   ],
   "source": [
    "df = pd.read_csv(\"/Users/meetsudra/Documents/GitHub/mathismust/statsismust/Titanic-Dataset.csv\")\n",
    "df.head(6)"
   ]
  },
  {
   "cell_type": "code",
   "execution_count": 95,
   "id": "e91e86a4",
   "metadata": {},
   "outputs": [
    {
     "data": {
      "text/plain": [
       "array([54.  , 34.  , 28.  , 19.  , 65.  , 45.  , 25.  , 46.  , 71.  ,\n",
       "       23.  , 21.  , 47.  , 24.  , 54.  , 37.  , 24.  , 36.5 , 61.  ,\n",
       "       56.  ,  1.  ,  3.  , 40.  , 38.  , 44.  , 37.  , 62.  , 52.  ,\n",
       "       40.  , 37.  , 36.  ,  0.92, 45.5 , 38.  , 29.  , 45.  ,  2.  ,\n",
       "       25.  , 27.  , 36.  , 32.  , 28.  , 50.  , 64.  ,  4.  , 52.  ,\n",
       "       30.  , 49.  , 65.  , 48.  , 47.  , 25.  , 58.  , 55.  , 18.  ,\n",
       "       36.  , 47.  , 45.  , 50.  , 17.  , 36.  , 36.  , 60.  , 49.  ,\n",
       "       42.  , 61.  , 80.  , 32.  , 48.  , 56.  , 58.  , 47.  , 31.  ,\n",
       "       36.  , 27.  , 31.  , 49.  , 42.  , 35.  , 42.  , 48.  , 19.  ,\n",
       "       27.  , 35.  , 36.  , 70.  , 19.  ,  6.  , 29.  , 46.  , 11.  ,\n",
       "       39.  , 51.  , 31.  , 33.  , 26.  ])"
      ]
     },
     "execution_count": 95,
     "metadata": {},
     "output_type": "execute_result"
    }
   ],
   "source": [
    "df_male = df[df[\"Sex\"] == \"male\"].dropna()\n",
    "df_male[\"Age\"].values"
   ]
  },
  {
   "cell_type": "code",
   "execution_count": 96,
   "id": "93bb95b2",
   "metadata": {},
   "outputs": [
    {
     "data": {
      "text/plain": [
       "array([38. , 35. ,  4. , 58. , 49. , 29. , 23. , 32.5, 19. , 22. , 50. ,\n",
       "       44. , 58. ,  2. , 31. , 32. , 35. , 29. , 30. , 58. , 35. , 63. ,\n",
       "       19. ,  2. , 50. , 17. , 30. , 24. , 18. , 31. , 40. , 36. , 36. ,\n",
       "       16. , 41. , 24. , 24. , 22. , 60. , 24. , 23. , 24. , 33. , 14. ,\n",
       "       23. , 35. , 54. , 25. , 16. , 34. , 30. , 44. , 22. , 36. , 48. ,\n",
       "       39. , 53. , 39. , 39. , 18. , 52. , 40. ,  4. , 21. , 24. , 15. ,\n",
       "       18. , 24. , 38. , 27. , 29. , 21. , 33. , 36. , 51. , 57. , 43. ,\n",
       "       17. , 49. , 33. , 52. , 27. , 39. , 16. , 48. , 47. , 56. , 19. ])"
      ]
     },
     "execution_count": 96,
     "metadata": {},
     "output_type": "execute_result"
    }
   ],
   "source": [
    "df_female = df[df[\"Sex\"]==\"female\"].dropna()\n",
    "df_female[\"Age\"].values\n"
   ]
  },
  {
   "cell_type": "code",
   "execution_count": 97,
   "id": "f81eb649",
   "metadata": {},
   "outputs": [
    {
     "data": {
      "text/plain": [
       "647    56.00\n",
       "224    38.00\n",
       "679    36.00\n",
       "681    27.00\n",
       "6      54.00\n",
       "262    52.00\n",
       "430    28.00\n",
       "438    64.00\n",
       "102    21.00\n",
       "452    30.00\n",
       "745    70.00\n",
       "515    47.00\n",
       "724    27.00\n",
       "456    65.00\n",
       "118    24.00\n",
       "54     65.00\n",
       "174    56.00\n",
       "273    37.00\n",
       "429    32.00\n",
       "632    32.00\n",
       "139    24.00\n",
       "707    42.00\n",
       "712    48.00\n",
       "305     0.92\n",
       "336    29.00\n",
       "Name: Age, dtype: float64"
      ]
     },
     "execution_count": 97,
     "metadata": {},
     "output_type": "execute_result"
    }
   ],
   "source": [
    "sample_male_age = df_male[\"Age\"].sample(25,random_state=42)\n",
    "sample_male_age"
   ]
  },
  {
   "cell_type": "code",
   "execution_count": 98,
   "id": "db1134dc",
   "metadata": {},
   "outputs": [
    {
     "data": {
      "text/plain": [
       "779    43.0\n",
       "1      38.0\n",
       "309    30.0\n",
       "291    19.0\n",
       "195    58.0\n",
       "710    24.0\n",
       "177    50.0\n",
       "257    30.0\n",
       "52     49.0\n",
       "716    38.0\n",
       "871    47.0\n",
       "689    15.0\n",
       "540    36.0\n",
       "820    52.0\n",
       "862    48.0\n",
       "641    24.0\n",
       "329    16.0\n",
       "809    33.0\n",
       "558    39.0\n",
       "763    36.0\n",
       "194    44.0\n",
       "319    40.0\n",
       "393    23.0\n",
       "311    18.0\n",
       "151    22.0\n",
       "Name: Age, dtype: float64"
      ]
     },
     "execution_count": 98,
     "metadata": {},
     "output_type": "execute_result"
    }
   ],
   "source": [
    "sample_female_age = df_female[\"Age\"].sample(25,random_state=42)\n",
    "sample_female_age"
   ]
  },
  {
   "cell_type": "markdown",
   "id": "5b8d4a17",
   "metadata": {},
   "source": [
    "Assumtions :\n",
    "1. Independent ofc he \n",
    "2. Normally distributed (will check)\n",
    "3. Equal variances \n",
    "4. Random"
   ]
  },
  {
   "cell_type": "code",
   "execution_count": 99,
   "id": "e1af3e14",
   "metadata": {},
   "outputs": [
    {
     "name": "stdout",
     "output_type": "stream",
     "text": [
      "ShapiroResult(statistic=0.9573870459042103, pvalue=0.36489471892365183)\n",
      "ShapiroResult(statistic=0.9609997363223072, pvalue=0.43474496646823146)\n"
     ]
    }
   ],
   "source": [
    "# Now since we cant apply CLT since we dont have std of population_male_age and population_female_age \n",
    "# lets check whether our sample is following normal distribution or not using SHAPIRO WILK TEST \n",
    "shapiro_male = shapiro(sample_male_age)\n",
    "print(shapiro_male)\n",
    "\n",
    "shapiro_female = shapiro(sample_female_age)\n",
    "print(shapiro_female)"
   ]
  },
  {
   "cell_type": "markdown",
   "id": "362417f9",
   "metadata": {},
   "source": [
    "p-value for both the series is greater then 0.05 means we can say that they are following normal distribution"
   ]
  },
  {
   "cell_type": "code",
   "execution_count": 100,
   "id": "1b8c6547",
   "metadata": {},
   "outputs": [
    {
     "name": "stdout",
     "output_type": "stream",
     "text": [
      "LeveneResult(statistic=2.2247302601679935, pvalue=0.1423597531874301)\n"
     ]
    }
   ],
   "source": [
    "# if the p-value is greater then 0.05 means we can say that they have equal variances \n",
    "from scipy.stats import levene\n",
    "\n",
    "levene_test = levene(sample_male_age,sample_female_age)\n",
    "print(levene_test)"
   ]
  },
  {
   "cell_type": "markdown",
   "id": "7e290cd4",
   "metadata": {},
   "source": [
    "p-value is greater then 0.05 means we can say that they have equal variances"
   ]
  },
  {
   "cell_type": "code",
   "execution_count": 85,
   "id": "c2fdb37b",
   "metadata": {},
   "outputs": [
    {
     "name": "stdout",
     "output_type": "stream",
     "text": [
      "17.022384948453414\n",
      "12.370394765999453\n"
     ]
    }
   ],
   "source": [
    "print(sample_male_age.std())\n",
    "print(sample_female_age.std())\n",
    "\n",
    "n1=n2= 25 # samples\n",
    "sample_male_mean = sum(sample_male_age)/len(sample_male_age)\n",
    "sample_female_mean = sum(sample_female_age)/len(sample_female_age)"
   ]
  },
  {
   "cell_type": "code",
   "execution_count": 86,
   "id": "17bc6380",
   "metadata": {},
   "outputs": [
    {
     "data": {
      "text/plain": [
       "1.2633459180286415"
      ]
     },
     "execution_count": 86,
     "metadata": {},
     "output_type": "execute_result"
    }
   ],
   "source": [
    "# Calculate t-statistic\n",
    "\n",
    "tstatistic = (sample_male_mean - sample_female_mean)/(np.sqrt((17.022384948453414**2/n)+(12.370394765999453**2/n)))\n",
    "tstatistic"
   ]
  },
  {
   "cell_type": "code",
   "execution_count": 102,
   "id": "bad3e542",
   "metadata": {},
   "outputs": [
    {
     "name": "stdout",
     "output_type": "stream",
     "text": [
      "0.21256687059589208\n"
     ]
    }
   ],
   "source": [
    "from scipy.stats import t\n",
    "\n",
    "degree_of_freedom = n1 + n2 - 2\n",
    "# Calculate the cdf value \n",
    "cdf = 1 - t.cdf(tstatistic,degree_of_freedom) # area under the curve\n",
    "print(cdf*2) # p-value "
   ]
  },
  {
   "cell_type": "code",
   "execution_count": null,
   "id": "7675dfe8",
   "metadata": {},
   "outputs": [],
   "source": []
  },
  {
   "cell_type": "code",
   "execution_count": null,
   "id": "2e6fb81d",
   "metadata": {},
   "outputs": [],
   "source": []
  },
  {
   "cell_type": "code",
   "execution_count": 101,
   "id": "d4c7759e",
   "metadata": {},
   "outputs": [
    {
     "name": "stdout",
     "output_type": "stream",
     "text": [
      "1.263345918028642\n",
      "0.2125668705958919\n"
     ]
    }
   ],
   "source": [
    "# Using ttest_ind function\n",
    "\n",
    "import scipy.stats as stats\n",
    "\n",
    "t_statistic, p_value = stats.ttest_ind(sample_male_age,sample_female_age)\n",
    "print(t_statistic)\n",
    "print(p_value)"
   ]
  },
  {
   "cell_type": "markdown",
   "id": "c401cd35",
   "metadata": {},
   "source": [
    "#### p-value is greater then 0.05 means we fail to reject null hypthesis. mean age of male and female are significantly similarly"
   ]
  }
 ],
 "metadata": {
  "kernelspec": {
   "display_name": "Python 3",
   "language": "python",
   "name": "python3"
  },
  "language_info": {
   "codemirror_mode": {
    "name": "ipython",
    "version": 3
   },
   "file_extension": ".py",
   "mimetype": "text/x-python",
   "name": "python",
   "nbconvert_exporter": "python",
   "pygments_lexer": "ipython3",
   "version": "3.12.3"
  }
 },
 "nbformat": 4,
 "nbformat_minor": 5
}
