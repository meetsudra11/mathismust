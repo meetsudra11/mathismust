{
 "cells": [
  {
   "cell_type": "markdown",
   "id": "08f0569d",
   "metadata": {},
   "source": [
    "#### QUESTION :\n",
    "\n",
    "A company claims that their email marketing campaign has a 15% click-through rate. If you randomly select 100 people to receive the email, what is the probability that exactly 20 will click through to the website?\n",
    "\n",
    "#### ANSWER :\n",
    "\n",
    "- Customer will either click or ignore (2 classes)  \n",
    "- Means 100 simulations (n = 100). \n",
    "- 100 people selected randomly.Each person is independetnt as well.\n",
    "- Since Success rate is fixed and there are only 2 classes with 100 simulations, it might follow binomial distribution. P(X = x) = nCx * P(x)**0 * (1-P)**n-x\n",
    "- calculation will be as such.: P(20)=. 100C20 * ((0.15)**20) * (0.85)**80\n",
    "\n"
   ]
  },
  {
   "cell_type": "code",
   "execution_count": 5,
   "id": "b721c950",
   "metadata": {},
   "outputs": [
    {
     "name": "stdout",
     "output_type": "stream",
     "text": [
      "P(x=20): 0.04022449066141787\n"
     ]
    }
   ],
   "source": [
    "from scipy.stats import binom\n",
    "\n",
    "n = 100\n",
    "p = 0.15\n",
    "x = 20 \n",
    "\n",
    "probability = binom.pmf(x,n,p)\n",
    "print(\"P(x=20):\",probability)\n"
   ]
  },
  {
   "cell_type": "markdown",
   "id": "5b781a2d",
   "metadata": {},
   "source": [
    "#### QUESTION\n",
    "A researcher is investigating whether a new medication improves patient outcomes. The medication has a success rate of 75%. If the researcher enrolls 50 patients in the study, what is the probability that fewer than 35 will have a positive outcome?\n",
    "\n",
    "#### ANSWER :\n",
    "- medication will either improve outcome or not\n",
    "- success rate is fixed that is 0.75\n",
    "- enrolled 50 patient (trails/simulations). Every patient is independent.\n",
    "- the probability that fewer than 35 will have a positive outcome. means P(x<35) will have positive outcome \n",
    "- P(x<35) means p(x<=34) and it will follow binomial distribution "
   ]
  },
  {
   "cell_type": "code",
   "execution_count": 6,
   "id": "650aeb7f",
   "metadata": {},
   "outputs": [
    {
     "name": "stdout",
     "output_type": "stream",
     "text": [
      "P(x<=34): 0.16308327146260387\n"
     ]
    }
   ],
   "source": [
    "n = 50\n",
    "p = 0.75\n",
    "x = 34 \n",
    "\n",
    "probability = binom.cdf(x,n,p)\n",
    "print(\"P(x<=34):\",probability)"
   ]
  },
  {
   "cell_type": "code",
   "execution_count": null,
   "id": "3308c8bf",
   "metadata": {},
   "outputs": [],
   "source": []
  }
 ],
 "metadata": {
  "kernelspec": {
   "display_name": "Python 3",
   "language": "python",
   "name": "python3"
  },
  "language_info": {
   "codemirror_mode": {
    "name": "ipython",
    "version": 3
   },
   "file_extension": ".py",
   "mimetype": "text/x-python",
   "name": "python",
   "nbconvert_exporter": "python",
   "pygments_lexer": "ipython3",
   "version": "3.12.3"
  }
 },
 "nbformat": 4,
 "nbformat_minor": 5
}
