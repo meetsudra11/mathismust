{
 "cells": [
  {
   "cell_type": "markdown",
   "id": "08f0569d",
   "metadata": {},
   "source": [
    "#### QUESTION :\n",
    "\n",
    "A company claims that their email marketing campaign has a 15% click-through rate. If you randomly select 100 people to receive the email, what is the probability that exactly 20 will click through to the website?\n",
    "\n",
    "#### ANSWER :\n",
    "\n",
    "- Customer will either click or ignore (2 classes)  \n",
    "- Means 100 simulations (n = 100). \n",
    "- 100 people selected randomly.Each person is independetnt as well.\n",
    "- Since Success rate is fixed and there are only 2 classes with 100 simulations, it might follow binomial distribution. P(X = x) = nCx * P(x)**0 * (1-P)**n-x\n",
    "- calculation will be as such.: P(20)=. 100C20 * ((0.15)**20) * (0.85)**80\n",
    "\n"
   ]
  },
  {
   "cell_type": "code",
   "execution_count": 1,
   "id": "b721c950",
   "metadata": {},
   "outputs": [
    {
     "name": "stdout",
     "output_type": "stream",
     "text": [
      "P(x=20): 0.04022449066141787\n",
      "P(x=20): 0.04022449066141756\n"
     ]
    }
   ],
   "source": [
    "from scipy.stats import binom\n",
    "import math\n",
    "n = 100\n",
    "p = 0.15\n",
    "x = 20 \n",
    "\n",
    "probability = binom.pmf(x,n,p)\n",
    "print(\"P(x=20):\",probability)\n",
    "\n",
    "promanually = math.comb(100,20) * ((0.15)**20) * ((0.85)**(100-20))\n",
    "print(\"P(x=20):\",promanually)"
   ]
  },
  {
   "cell_type": "markdown",
   "id": "5b781a2d",
   "metadata": {},
   "source": [
    "#### QUESTION :\n",
    "A researcher is investigating whether a new medication improves patient outcomes. The medication has a success rate of 75%. If the researcher enrolls 50 patients in the study, what is the probability that fewer than 35 will have a positive outcome?\n",
    "\n",
    "#### ANSWER :\n",
    "- medication will either improve outcome or not\n",
    "- success rate is fixed that is 0.75\n",
    "- enrolled 50 patient (trails/simulations). Every patient is independent.\n",
    "- the probability that fewer than 35 will have a positive outcome. means P(x<35) will have positive outcome \n",
    "- P(x<35) means p(x<=34) and it will follow binomial distribution "
   ]
  },
  {
   "cell_type": "code",
   "execution_count": 7,
   "id": "650aeb7f",
   "metadata": {},
   "outputs": [
    {
     "name": "stdout",
     "output_type": "stream",
     "text": [
      "P(x<=34): 0.16308327146260387\n",
      "P(x<=34): 0.16308327146260382\n"
     ]
    }
   ],
   "source": [
    "n = 50\n",
    "p = 0.75\n",
    "x = 34 \n",
    "\n",
    "probability = binom.cdf(x,n,p)\n",
    "print(\"P(x<=34):\",probability)\n",
    "\n",
    "promanually = 0\n",
    "for i in range(0,35):\n",
    "    promanually += math.comb(50,i) * ((0.75)**i) * ((0.25)**(50-i))\n",
    "    \n",
    "print(\"P(x<=34):\",promanually)"
   ]
  },
  {
   "cell_type": "markdown",
   "id": "6ad89608",
   "metadata": {},
   "source": [
    "# QUESTION :\n",
    "A website offers a premium subscription service with a 20% sign-up rate. If you randomly select 500 visitors to the website, what is the probability that between 90 and 110 will sign up for the premium service?\n",
    "\n",
    "# ANSWER :\n",
    "- either sign-up or not (2 possibilities).\n",
    "- success rate is fixed 20 percent \n",
    "- n = 500 (simulations)\n",
    "- the probability that between 90 and 110 will sign up for the premium service : P(x<=110) - P(x<=89) using binomial distribution  "
   ]
  },
  {
   "cell_type": "code",
   "execution_count": 15,
   "id": "3308c8bf",
   "metadata": {},
   "outputs": [
    {
     "name": "stdout",
     "output_type": "stream",
     "text": [
      "0.7597481607851565\n",
      "0.7597481607851779\n"
     ]
    }
   ],
   "source": [
    "n = 500 \n",
    "p = 0.20\n",
    "\n",
    "difference = binom.cdf(110,n,p)-binom.cdf(89,n,p)\n",
    "print(difference)\n",
    "\n",
    "\n",
    "promanually89 = 0 \n",
    "for i in range(0,90):\n",
    "    promanually89 += math.comb(n,i) * ((p)**(i)) * ((1-p)**(n-i))\n",
    "\n",
    "promanually110 = 0 \n",
    "for i in range(0,111):\n",
    "    promanually110 += math.comb(n,i) * ((p)**(i)) * ((1-p)**(n-i))\n",
    "\n",
    "difference = promanually110-promanually89\n",
    "print(difference)\n"
   ]
  },
  {
   "cell_type": "markdown",
   "id": "168155b2",
   "metadata": {},
   "source": [
    "# QUESTION:\n",
    "A school district is investigating the effectiveness of a new reading program. The program has a success rate of 70%. If the district enrolls 200 students in the program, what is the probability that more than 140 will show significant improvement in reading skills?\n",
    "\n",
    "# ANSWER : \n",
    "- it will improve or it wont (2 case only)\n",
    "- p = 0.70 is fixed success rate \n",
    "- tested on 200 students (simulations)\n",
    "- P(x>140) is asked"
   ]
  },
  {
   "cell_type": "code",
   "execution_count": 33,
   "id": "1c8b88ef",
   "metadata": {},
   "outputs": [
    {
     "name": "stdout",
     "output_type": "stream",
     "text": [
      "0.4733474593659287\n",
      "0.47334745936592904\n"
     ]
    }
   ],
   "source": [
    "n = 200\n",
    "p = 0.70\n",
    "x = 140 \n",
    "\n",
    "probability = 1-binom.cdf(x,n,p)\n",
    "print(probability)\n",
    "\n",
    "promanually = 0 \n",
    "for i in range(0,141):\n",
    "    promanually += (math.comb(n,i) * (p**(i)) * (1-p)**(n-i))\n",
    "\n",
    "print(1-promanually)"
   ]
  },
  {
   "cell_type": "markdown",
   "id": "d82dfdf3",
   "metadata": {},
   "source": [
    "# QUESTION :\n",
    "A factory produces electronic components with a defect rate of 5%. If a shipment of 200 components is sent out, what is the probability that fewer than 10 will be defective?\n",
    "\n",
    "# ANSWER :\n",
    "- defect rate means success rate is fixed 5%. Here in this case failure rate(not defect) is 95%\n",
    "- n = 200\n",
    "- p(x<10) will be defective ?"
   ]
  },
  {
   "cell_type": "code",
   "execution_count": 36,
   "id": "508ea3a2",
   "metadata": {},
   "outputs": [
    {
     "name": "stdout",
     "output_type": "stream",
     "text": [
      "0.45470980868081556\n",
      "0.45470980868081545\n"
     ]
    }
   ],
   "source": [
    "n = 200\n",
    "p = 0.05\n",
    "x = 9 \n",
    "\n",
    "probability = binom.cdf(x,n,p)\n",
    "print(probability)\n",
    "\n",
    "promanually = 0 \n",
    "for i in range(0,10):\n",
    "    promanually += (math.comb(n,i) * (p**(i)) * (1-p)**(n-i))\n",
    "\n",
    "print(promanually)"
   ]
  },
  {
   "cell_type": "markdown",
   "id": "caad74c8",
   "metadata": {},
   "source": [
    "# QUESTION :\n",
    "A survey shows that 70% of people prefer chocolate ice cream over vanilla ice cream. If you randomly survey one person, what is the probability that they prefer vanilla ice cream?\n",
    "\n",
    "# ANSWER :\n",
    "- success rate (prefering chocolate icecream over vanilla) = 0.7\n",
    "- p(vanilla) = 1-0.7 = 0.3"
   ]
  },
  {
   "cell_type": "markdown",
   "id": "3cc49647",
   "metadata": {},
   "source": [
    "# QUESTION :\n",
    "A software company releases a new product with a bug rate of 2%. If 10,000 copies of the product are sold, what is the probability that at least 250 will have a bug?\n",
    "# ANSWER :\n"
   ]
  },
  {
   "cell_type": "code",
   "execution_count": 44,
   "id": "f7364110",
   "metadata": {},
   "outputs": [
    {
     "name": "stdout",
     "output_type": "stream",
     "text": [
      "0.00031671833727753285\n"
     ]
    }
   ],
   "source": [
    "# to find : p(x>=250) \n",
    "\n",
    "n = 10000\n",
    "p = 0.02  # (fixed success rate. bug rate)\n",
    "x = 249 # after this value we want the area under the curve\n",
    "\n",
    "probability = binom.cdf(x,n,p)\n",
    "print(1-probability)\n"
   ]
  },
  {
   "cell_type": "markdown",
   "id": "0dbd78ac",
   "metadata": {},
   "source": [
    "# QUESTION :\n",
    "According to data from the National Center for Health Statistics (NCHS), the average height for adult men aged 20 years and over in the United States is approximately 69.2 inches with a standard deviation of approximately 2.9 inches. If you randomly select a sample of 50 adult men aged 20 years and over, what is the probability that the sample mean height is greater than 70 inches?\n",
    "\n",
    "# ANSWER :\n",
    "- avg height =  69.2 and std = 2.9 (problem of normal distribution)\n",
    "- sample = 50 it means according to the central limit theorem sigma for sample distribution will be (population sigma/ root of n)\n",
    "- P(sample_mean>70)"
   ]
  },
  {
   "cell_type": "code",
   "execution_count": 49,
   "id": "abfdb49f",
   "metadata": {},
   "outputs": [
    {
     "name": "stdout",
     "output_type": "stream",
     "text": [
      "CDF at x=70: 0.9744500213698976\n",
      "0.025549978630102443\n",
      "CDF at x=70: 0.9744500213698976\n",
      "0.025549978630102443\n"
     ]
    }
   ],
   "source": [
    "from scipy.stats import norm\n",
    "import numpy as np \n",
    "\n",
    "mu = 69.2     # mean\n",
    "sigma = 2.9  # standard deviation\n",
    "x = 70      # value to evaluate PDF at\n",
    "n = 50\n",
    "\n",
    "sample_sigma = sigma/np.sqrt(n)\n",
    "cdf_value = norm.cdf(x, mu, sample_sigma)\n",
    "print(\"CDF at x=70:\", cdf_value)\n",
    "print(1 - cdf_value)\n",
    "\n",
    "\n",
    "\n",
    "z = (x-mu)/(sigma/n**0.5)\n",
    "cdf_valuee = norm.cdf(z)\n",
    "print(\"CDF at x=70:\", cdf_valuee)\n",
    "print(1 - cdf_valuee)"
   ]
  },
  {
   "cell_type": "markdown",
   "id": "b62634a5",
   "metadata": {},
   "source": [
    "# QUESTION :\n",
    "A company claims that the average salary of its employees is 75,000 with a standard deviation of 10,000. If you randomly select 100 employees, what is the probability that the sample mean salary is less than 72,500?\n",
    "\n",
    "# ANSWER :\n",
    "- mu = 75000 and std = 10000 for (population)\n",
    "- sample = 100  # since value is greater then 30 we can use central limit theorem and state that the distribution is normal \n",
    "- P(x<72500) = ?"
   ]
  },
  {
   "cell_type": "code",
   "execution_count": 51,
   "id": "92932547",
   "metadata": {},
   "outputs": [
    {
     "data": {
      "text/plain": [
       "0.006209665325776134"
      ]
     },
     "execution_count": 51,
     "metadata": {},
     "output_type": "execute_result"
    }
   ],
   "source": [
    "mu = 75000\n",
    "sigma = 10000\n",
    "x = 72500\n",
    "n = 100\n",
    "\n",
    "z = (x-(mu))/(sigma/n**0.5)\n",
    "cdf_value = norm.cdf(z) \n",
    "cdf_value\n"
   ]
  },
  {
   "cell_type": "markdown",
   "id": "1d32c4e6",
   "metadata": {},
   "source": [
    "# QUESTION :\n",
    "A restaurant claims that the average wait time for a table is 15 minutes with a standard deviation of 3 minutes. If you randomly survey 50 customers, what is the probability that the sample mean wait time is greater than 16 minutes?\n",
    "\n",
    "# ANSWER :\n",
    "- mu = 15 and std = 3 for (population)\n",
    "- sample = 50  # since value is greater then 30 we can use central limit theorem and state that the distribution is normal \n",
    "- P(x>16) = ?"
   ]
  },
  {
   "cell_type": "code",
   "execution_count": 54,
   "id": "c7d7c617",
   "metadata": {},
   "outputs": [
    {
     "name": "stdout",
     "output_type": "stream",
     "text": [
      "z-value 2.3570226039551585\n"
     ]
    },
    {
     "data": {
      "text/plain": [
       "0.009211062727049524"
      ]
     },
     "execution_count": 54,
     "metadata": {},
     "output_type": "execute_result"
    }
   ],
   "source": [
    "mu = 15\n",
    "sigma = 3\n",
    "x = 16\n",
    "n = 50\n",
    "\n",
    "z = (x-mu)/(sigma/n**0.5)\n",
    "print(\"z-value\",z)\n",
    "cdf_value = norm.cdf(z) \n",
    "cdf_value\n",
    "\n",
    "probability = 1-cdf_value\n",
    "probability\n"
   ]
  },
  {
   "cell_type": "code",
   "execution_count": null,
   "id": "804767c6",
   "metadata": {},
   "outputs": [],
   "source": []
  }
 ],
 "metadata": {
  "kernelspec": {
   "display_name": "Python 3",
   "language": "python",
   "name": "python3"
  },
  "language_info": {
   "codemirror_mode": {
    "name": "ipython",
    "version": 3
   },
   "file_extension": ".py",
   "mimetype": "text/x-python",
   "name": "python",
   "nbconvert_exporter": "python",
   "pygments_lexer": "ipython3",
   "version": "3.12.3"
  }
 },
 "nbformat": 4,
 "nbformat_minor": 5
}
