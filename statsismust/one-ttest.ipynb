{
 "cells": [
  {
   "cell_type": "markdown",
   "id": "7cd4e4d0",
   "metadata": {},
   "source": [
    "# The Goal is to see how t-statistic works "
   ]
  },
  {
   "cell_type": "code",
   "execution_count": 1,
   "id": "d78e4cd1",
   "metadata": {},
   "outputs": [],
   "source": [
    "import pandas as pd \n",
    "import numpy as np \n",
    "import matplotlib.pyplot as plt"
   ]
  },
  {
   "cell_type": "code",
   "execution_count": 2,
   "id": "0f527a93",
   "metadata": {},
   "outputs": [
    {
     "data": {
      "text/html": [
       "<div>\n",
       "<style scoped>\n",
       "    .dataframe tbody tr th:only-of-type {\n",
       "        vertical-align: middle;\n",
       "    }\n",
       "\n",
       "    .dataframe tbody tr th {\n",
       "        vertical-align: top;\n",
       "    }\n",
       "\n",
       "    .dataframe thead th {\n",
       "        text-align: right;\n",
       "    }\n",
       "</style>\n",
       "<table border=\"1\" class=\"dataframe\">\n",
       "  <thead>\n",
       "    <tr style=\"text-align: right;\">\n",
       "      <th></th>\n",
       "      <th>PassengerId</th>\n",
       "      <th>Survived</th>\n",
       "      <th>Pclass</th>\n",
       "      <th>Name</th>\n",
       "      <th>Sex</th>\n",
       "      <th>Age</th>\n",
       "      <th>SibSp</th>\n",
       "      <th>Parch</th>\n",
       "      <th>Ticket</th>\n",
       "      <th>Fare</th>\n",
       "      <th>Cabin</th>\n",
       "      <th>Embarked</th>\n",
       "    </tr>\n",
       "  </thead>\n",
       "  <tbody>\n",
       "    <tr>\n",
       "      <th>0</th>\n",
       "      <td>1</td>\n",
       "      <td>0</td>\n",
       "      <td>3</td>\n",
       "      <td>Braund, Mr. Owen Harris</td>\n",
       "      <td>male</td>\n",
       "      <td>22.0</td>\n",
       "      <td>1</td>\n",
       "      <td>0</td>\n",
       "      <td>A/5 21171</td>\n",
       "      <td>7.2500</td>\n",
       "      <td>NaN</td>\n",
       "      <td>S</td>\n",
       "    </tr>\n",
       "    <tr>\n",
       "      <th>1</th>\n",
       "      <td>2</td>\n",
       "      <td>1</td>\n",
       "      <td>1</td>\n",
       "      <td>Cumings, Mrs. John Bradley (Florence Briggs Th...</td>\n",
       "      <td>female</td>\n",
       "      <td>38.0</td>\n",
       "      <td>1</td>\n",
       "      <td>0</td>\n",
       "      <td>PC 17599</td>\n",
       "      <td>71.2833</td>\n",
       "      <td>C85</td>\n",
       "      <td>C</td>\n",
       "    </tr>\n",
       "    <tr>\n",
       "      <th>2</th>\n",
       "      <td>3</td>\n",
       "      <td>1</td>\n",
       "      <td>3</td>\n",
       "      <td>Heikkinen, Miss. Laina</td>\n",
       "      <td>female</td>\n",
       "      <td>26.0</td>\n",
       "      <td>0</td>\n",
       "      <td>0</td>\n",
       "      <td>STON/O2. 3101282</td>\n",
       "      <td>7.9250</td>\n",
       "      <td>NaN</td>\n",
       "      <td>S</td>\n",
       "    </tr>\n",
       "    <tr>\n",
       "      <th>3</th>\n",
       "      <td>4</td>\n",
       "      <td>1</td>\n",
       "      <td>1</td>\n",
       "      <td>Futrelle, Mrs. Jacques Heath (Lily May Peel)</td>\n",
       "      <td>female</td>\n",
       "      <td>35.0</td>\n",
       "      <td>1</td>\n",
       "      <td>0</td>\n",
       "      <td>113803</td>\n",
       "      <td>53.1000</td>\n",
       "      <td>C123</td>\n",
       "      <td>S</td>\n",
       "    </tr>\n",
       "    <tr>\n",
       "      <th>4</th>\n",
       "      <td>5</td>\n",
       "      <td>0</td>\n",
       "      <td>3</td>\n",
       "      <td>Allen, Mr. William Henry</td>\n",
       "      <td>male</td>\n",
       "      <td>35.0</td>\n",
       "      <td>0</td>\n",
       "      <td>0</td>\n",
       "      <td>373450</td>\n",
       "      <td>8.0500</td>\n",
       "      <td>NaN</td>\n",
       "      <td>S</td>\n",
       "    </tr>\n",
       "  </tbody>\n",
       "</table>\n",
       "</div>"
      ],
      "text/plain": [
       "   PassengerId  Survived  Pclass  \\\n",
       "0            1         0       3   \n",
       "1            2         1       1   \n",
       "2            3         1       3   \n",
       "3            4         1       1   \n",
       "4            5         0       3   \n",
       "\n",
       "                                                Name     Sex   Age  SibSp  \\\n",
       "0                            Braund, Mr. Owen Harris    male  22.0      1   \n",
       "1  Cumings, Mrs. John Bradley (Florence Briggs Th...  female  38.0      1   \n",
       "2                             Heikkinen, Miss. Laina  female  26.0      0   \n",
       "3       Futrelle, Mrs. Jacques Heath (Lily May Peel)  female  35.0      1   \n",
       "4                           Allen, Mr. William Henry    male  35.0      0   \n",
       "\n",
       "   Parch            Ticket     Fare Cabin Embarked  \n",
       "0      0         A/5 21171   7.2500   NaN        S  \n",
       "1      0          PC 17599  71.2833   C85        C  \n",
       "2      0  STON/O2. 3101282   7.9250   NaN        S  \n",
       "3      0            113803  53.1000  C123        S  \n",
       "4      0            373450   8.0500   NaN        S  "
      ]
     },
     "execution_count": 2,
     "metadata": {},
     "output_type": "execute_result"
    }
   ],
   "source": [
    "df = pd.read_csv(\"/Users/meetsudra/Documents/GitHub/mathismust/Titanic-Dataset.csv\")\n",
    "df.head(5)"
   ]
  },
  {
   "cell_type": "markdown",
   "id": "fd208ead",
   "metadata": {},
   "source": [
    "population data "
   ]
  },
  {
   "cell_type": "code",
   "execution_count": 10,
   "id": "9a2ede75",
   "metadata": {},
   "outputs": [
    {
     "data": {
      "text/plain": [
       "0      22.0\n",
       "1      38.0\n",
       "2      26.0\n",
       "3      35.0\n",
       "4      35.0\n",
       "       ... \n",
       "885    39.0\n",
       "886    27.0\n",
       "887    19.0\n",
       "889    26.0\n",
       "890    32.0\n",
       "Name: Age, Length: 714, dtype: float64"
      ]
     },
     "execution_count": 10,
     "metadata": {},
     "output_type": "execute_result"
    }
   ],
   "source": [
    "pop = df[\"Age\"].dropna()\n",
    "pop"
   ]
  },
  {
   "cell_type": "markdown",
   "id": "8ef2e0af",
   "metadata": {},
   "source": [
    "sample data"
   ]
  },
  {
   "cell_type": "code",
   "execution_count": 12,
   "id": "36e9b6d7",
   "metadata": {},
   "outputs": [
    {
     "data": {
      "text/plain": [
       "array([30., 49., 29., 36., 30., 26., 50., 25., 45., 31., 28., 30., 29.,\n",
       "       25., 34., 40.,  9., 28.,  3., 24., 22., 36., 18., 36., 35.])"
      ]
     },
     "execution_count": 12,
     "metadata": {},
     "output_type": "execute_result"
    }
   ],
   "source": [
    "sample_age = pop.sample(25).values\n",
    "sample_age"
   ]
  },
  {
   "cell_type": "code",
   "execution_count": 13,
   "id": "730a8bf0",
   "metadata": {},
   "outputs": [],
   "source": [
    "# Ho = mean age is 35\n",
    "# Ha = mean age is less then 35  "
   ]
  },
  {
   "cell_type": "code",
   "execution_count": 15,
   "id": "1dc617b5",
   "metadata": {},
   "outputs": [
    {
     "data": {
      "text/plain": [
       "10.441915533081083"
      ]
     },
     "execution_count": 15,
     "metadata": {},
     "output_type": "execute_result"
    }
   ],
   "source": [
    "sample_age.mean()\n",
    "sample_age.std()"
   ]
  },
  {
   "cell_type": "markdown",
   "id": "66e6db47",
   "metadata": {},
   "source": [
    "1. sample is 25 less then 30 means we cannot apply CLT\n",
    "2. population mean is 35\n",
    "3. so our xbar is 29.92 and sample std is 10.44\n",
    "4. alpha is 0.05 \n",
    "\n",
    "Main thing \n",
    "1. we dont have population std thus we will apply t-test "
   ]
  },
  {
   "cell_type": "code",
   "execution_count": 16,
   "id": "4ab99283",
   "metadata": {},
   "outputs": [
    {
     "name": "stdout",
     "output_type": "stream",
     "text": [
      "ShapiroResult(statistic=0.9513218419646562, pvalue=0.2684731376176422)\n"
     ]
    }
   ],
   "source": [
    "# Now since we cant apply CLT lets check whether our sample is following normal distribution or not using SHAPIRO WILK TEST \n",
    "from scipy.stats import shapiro \n",
    "\n",
    "shapiro = shapiro(sample_age)\n",
    "print(shapiro)"
   ]
  },
  {
   "cell_type": "markdown",
   "id": "edbbfb63",
   "metadata": {},
   "source": [
    "Since p-value is greater then 0.05 we can say that sample_age is normally distributed "
   ]
  },
  {
   "cell_type": "code",
   "execution_count": 18,
   "id": "ff6dc2ab",
   "metadata": {},
   "outputs": [
    {
     "name": "stdout",
     "output_type": "stream",
     "text": [
      "-2.383357316752184\n",
      "0.012709028816572501\n"
     ]
    }
   ],
   "source": [
    "pop_mean =  35 # given\n",
    "import scipy.stats as stats\n",
    "t_statistic, p_value = stats.ttest_1samp(sample_age, pop_mean)\n",
    "\n",
    "print(t_statistic)\n",
    "print(p_value/2)  # one-tailed test he left side \n",
    "\n"
   ]
  },
  {
   "cell_type": "markdown",
   "id": "5ba8fbb9",
   "metadata": {},
   "source": [
    "### here p-value is less then 0.05 means we reject the null hypothesis and say that the average age in the titanic data is less then 35 "
   ]
  },
  {
   "cell_type": "code",
   "execution_count": 19,
   "id": "ef11aaaf",
   "metadata": {},
   "outputs": [
    {
     "data": {
      "text/plain": [
       "29.69911764705882"
      ]
     },
     "execution_count": 19,
     "metadata": {},
     "output_type": "execute_result"
    }
   ],
   "source": [
    "# lets check kitna mean he \n",
    "\n",
    "pop.mean()"
   ]
  },
  {
   "cell_type": "markdown",
   "id": "80e91553",
   "metadata": {},
   "source": [
    "It verifies that the average age is less then 35"
   ]
  },
  {
   "cell_type": "code",
   "execution_count": null,
   "id": "0fca1d30",
   "metadata": {},
   "outputs": [],
   "source": []
  }
 ],
 "metadata": {
  "kernelspec": {
   "display_name": "Python 3",
   "language": "python",
   "name": "python3"
  },
  "language_info": {
   "codemirror_mode": {
    "name": "ipython",
    "version": 3
   },
   "file_extension": ".py",
   "mimetype": "text/x-python",
   "name": "python",
   "nbconvert_exporter": "python",
   "pygments_lexer": "ipython3",
   "version": "3.12.3"
  }
 },
 "nbformat": 4,
 "nbformat_minor": 5
}
