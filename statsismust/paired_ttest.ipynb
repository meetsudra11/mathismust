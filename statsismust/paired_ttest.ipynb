{
 "cells": [
  {
   "cell_type": "markdown",
   "id": "fe512873",
   "metadata": {},
   "source": [
    "Let's assume that a fitness center is evaluating the effectiveness of a new 8-week weight loss program.\n",
    "They enroll 15 participants in the program and measure their weights before and after the program.\n",
    "The goal is to test whether the new weight loss program leads to a significant reduction in the participants' weight."
   ]
  },
  {
   "cell_type": "markdown",
   "id": "f752bc76",
   "metadata": {},
   "source": [
    "Ho = There is no significant reduction in the participants weight. average weight before is equal to average weight after.\n",
    "Ha = There is significant reduction in participants weight. average weight before is greater then averge weight after. "
   ]
  },
  {
   "cell_type": "code",
   "execution_count": 1,
   "id": "8ce6a83c",
   "metadata": {},
   "outputs": [],
   "source": [
    "import pandas as pd \n",
    "import numpy as np \n",
    "import matplotlib.pyplot as plt"
   ]
  },
  {
   "cell_type": "code",
   "execution_count": 7,
   "id": "a11f39e0",
   "metadata": {},
   "outputs": [],
   "source": [
    "befprog = np.array([80, 92, 75, 68, 85, 78, 73, 90, 70, 88, 76, 84, 82, 77, 91])\n",
    "afprog = np.array([78, 93, 81, 67, 88, 76, 74, 91, 69, 88, 77, 81, 80, 79, 88])"
   ]
  },
  {
   "cell_type": "code",
   "execution_count": 14,
   "id": "6941b2d7",
   "metadata": {},
   "outputs": [
    {
     "data": {
      "text/plain": [
       "array([-2,  1,  6, -1,  3, -2,  1,  1, -1,  0,  1, -3, -2,  2, -3])"
      ]
     },
     "execution_count": 14,
     "metadata": {},
     "output_type": "execute_result"
    }
   ],
   "source": [
    "diff = afprog - befprog\n",
    "diff"
   ]
  },
  {
   "cell_type": "code",
   "execution_count": 15,
   "id": "a074e078",
   "metadata": {},
   "outputs": [
    {
     "name": "stdout",
     "output_type": "stream",
     "text": [
      "ShapiroResult(statistic=0.9220571486009436, pvalue=0.2070477898690057)\n"
     ]
    }
   ],
   "source": [
    "# lets check whether our sample is following normal distribution or not using SHAPIRO WILK TEST \n",
    "from scipy.stats import shapiro \n",
    "\n",
    "\n",
    "shapiro_df = shapiro(diff)\n",
    "print(shapiro_df)\n"
   ]
  },
  {
   "cell_type": "markdown",
   "id": "f1582d15",
   "metadata": {},
   "source": [
    "since p-value is greater then 0.05 thus difference follows normal distribution.\n",
    "\n",
    "ALSO :\n",
    "1. mu difference (difference between mu before and mu after is 0. since our assumption is that there is no difference (Ho))"
   ]
  },
  {
   "cell_type": "code",
   "execution_count": 16,
   "id": "24912be6",
   "metadata": {},
   "outputs": [
    {
     "name": "stdout",
     "output_type": "stream",
     "text": [
      "2.4630604269214893 0.06666666666666667\n"
     ]
    }
   ],
   "source": [
    "std_diff = np.std(diff,ddof=1)\n",
    "mean_diff = np.mean(diff)\n",
    "\n",
    "\n",
    "n = len(diff)\n",
    "\n",
    "print(std_diff,mean_diff)"
   ]
  },
  {
   "cell_type": "code",
   "execution_count": 17,
   "id": "ecbeec0a",
   "metadata": {},
   "outputs": [],
   "source": [
    "tstatistic = mean_diff / (std_diff/np.sqrt(n)) # len(df) = n\n",
    "tstatistic\n",
    "df = n-1 # without degree of freedom we cant get area "
   ]
  },
  {
   "cell_type": "code",
   "execution_count": 18,
   "id": "e3dcce77",
   "metadata": {},
   "outputs": [
    {
     "data": {
      "text/plain": [
       "0.10482848367219182"
      ]
     },
     "execution_count": 18,
     "metadata": {},
     "output_type": "execute_result"
    }
   ],
   "source": [
    "tstatistic"
   ]
  },
  {
   "cell_type": "code",
   "execution_count": 19,
   "id": "80b3a052",
   "metadata": {},
   "outputs": [],
   "source": [
    "# using cdf \n",
    "from scipy import stats\n",
    "\n",
    "alpha = 0.05\n",
    "p_value = stats.t.cdf(tstatistic, df)"
   ]
  },
  {
   "cell_type": "code",
   "execution_count": 20,
   "id": "cf15ad22",
   "metadata": {},
   "outputs": [
    {
     "data": {
      "text/plain": [
       "0.5410005146857456"
      ]
     },
     "execution_count": 20,
     "metadata": {},
     "output_type": "execute_result"
    }
   ],
   "source": [
    "p_value"
   ]
  },
  {
   "cell_type": "markdown",
   "id": "00be3a3f",
   "metadata": {},
   "source": [
    "p value greater then 0.05 thus we cannot reject null hypothesis and thus there is no significant reduction is average weeight before or after.\n",
    "average weight before is equal to average weight after "
   ]
  },
  {
   "cell_type": "code",
   "execution_count": null,
   "id": "a9272191",
   "metadata": {},
   "outputs": [],
   "source": []
  }
 ],
 "metadata": {
  "kernelspec": {
   "display_name": "Python 3",
   "language": "python",
   "name": "python3"
  },
  "language_info": {
   "codemirror_mode": {
    "name": "ipython",
    "version": 3
   },
   "file_extension": ".py",
   "mimetype": "text/x-python",
   "name": "python",
   "nbconvert_exporter": "python",
   "pygments_lexer": "ipython3",
   "version": "3.12.3"
  }
 },
 "nbformat": 4,
 "nbformat_minor": 5
}
