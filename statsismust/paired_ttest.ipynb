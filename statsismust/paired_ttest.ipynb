{
 "cells": [
  {
   "cell_type": "markdown",
   "id": "fe512873",
   "metadata": {},
   "source": [
    "Let's assume that a fitness center is evaluating the effectiveness of a new 8-week weight loss program.\n",
    "They enroll 15 participants in the program and measure their weights before and after the program.\n",
    "The goal is to test whether the new weight loss program leads to a significant reduction in the participants' weight.\n",
    "\n",
    "Before the program:\n",
    "[80, 92, 75, 68, 85, 78, 73, 90, 70, 88, 76, 84, 82, 77, 91]\n",
    "\n",
    "After the program:\n",
    "[78, 93, 81, 67, 88, 76, 74, 91, 69, 88, 77, 81, 80, 79, 88]"
   ]
  },
  {
   "cell_type": "code",
   "execution_count": null,
   "id": "6941b2d7",
   "metadata": {},
   "outputs": [],
   "source": []
  }
 ],
 "metadata": {
  "language_info": {
   "name": "python"
  }
 },
 "nbformat": 4,
 "nbformat_minor": 5
}
