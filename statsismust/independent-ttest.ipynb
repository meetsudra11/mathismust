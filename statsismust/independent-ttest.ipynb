{
 "cells": [
  {
   "cell_type": "markdown",
   "id": "37834f51",
   "metadata": {},
   "source": [
    "### company says that there is no difference between average screen-time on their website by desktop and mobile users. "
   ]
  },
  {
   "cell_type": "code",
   "execution_count": 1,
   "id": "91b17dd6",
   "metadata": {},
   "outputs": [],
   "source": [
    "import pandas as pd \n",
    "import numpy as np \n",
    "import matplotlib.pyplot as plt "
   ]
  },
  {
   "cell_type": "code",
   "execution_count": 3,
   "id": "1c0c7f32",
   "metadata": {},
   "outputs": [],
   "source": [
    "desktop_users = [12, 15, 18, 16, 20, 17, 14, 22, 19, 21, 23, 18, 25, 17, 16, 24, 20, 19, 22, 18, 15, 14, 23, 16, 12, 21, 19, 17, 20, 14]\n",
    "mobile_users = [10, 12, 14, 13, 16, 15, 11, 17, 14, 16, 18, 14, 20, 15, 14, 19, 16, 15, 17, 14, 12, 11, 18, 15, 10, 16, 15, 13, 16, 11]"
   ]
  },
  {
   "cell_type": "markdown",
   "id": "0a659b3c",
   "metadata": {},
   "source": [
    "Assumptions :\n",
    "1. Randomly collected \n",
    "2. independent (Maan sakte he. Altho it might happen someone using both and it might affect but ignoring it rightnow.)\n",
    "3. We'll check normality using shapiro test\n",
    "4. We'll use levene test to check both the lists have equal variances \n",
    "\n",
    "\n",
    "Given :\n",
    "\n",
    "n = 30 (for both)\n",
    "\n",
    "sX = 3.5\n",
    "\n",
    "sY = 2.7"
   ]
  },
  {
   "cell_type": "code",
   "execution_count": 6,
   "id": "a699f703",
   "metadata": {},
   "outputs": [
    {
     "name": "stdout",
     "output_type": "stream",
     "text": [
      "ShapiroResult(statistic=0.9783115512411948, pvalue=0.77910032998089)\n",
      "ShapiroResult(statistic=0.9714355768676654, pvalue=0.5791606602037616)\n"
     ]
    }
   ],
   "source": [
    "# Now since we cant apply CLT lets check whether our sample is following normal distribution or not using SHAPIRO WILK TEST \n",
    "from scipy.stats import shapiro \n",
    "\n",
    "shapiro_desktop = shapiro(desktop_users)\n",
    "print(shapiro_desktop)\n",
    "\n",
    "shapiro_mobile = shapiro(mobile_users)\n",
    "print(shapiro_mobile)"
   ]
  },
  {
   "cell_type": "markdown",
   "id": "e156b0e4",
   "metadata": {},
   "source": [
    "p-value of both the sections are greater then 0.05 means we can say that desktop_users and mobile_users follow normal distribution "
   ]
  },
  {
   "cell_type": "code",
   "execution_count": 7,
   "id": "dea9f14d",
   "metadata": {},
   "outputs": [
    {
     "name": "stdout",
     "output_type": "stream",
     "text": [
      "LeveneResult(statistic=2.94395488191752, pvalue=0.09153720526741738)\n"
     ]
    }
   ],
   "source": [
    "# if the p-value is greater then 0.05 means we can say that they have equal variances \n",
    "from scipy.stats import levene\n",
    "\n",
    "levene_test = levene(desktop_users,mobile_users)\n",
    "print(levene_test)"
   ]
  },
  {
   "cell_type": "markdown",
   "id": "e6b722b8",
   "metadata": {},
   "source": [
    "p-value is > 0.05 means they have equal variances "
   ]
  },
  {
   "cell_type": "code",
   "execution_count": 8,
   "id": "1c461f27",
   "metadata": {},
   "outputs": [
    {
     "name": "stdout",
     "output_type": "stream",
     "text": [
      "18.233333333333334 14.566666666666666\n"
     ]
    }
   ],
   "source": [
    "Xbar = sum(desktop_users)/len(desktop_users)\n",
    "Ybar = sum(mobile_users)/len(mobile_users)\n",
    "\n",
    "print(Xbar,Ybar)"
   ]
  },
  {
   "cell_type": "code",
   "execution_count": 10,
   "id": "a83f5194",
   "metadata": {},
   "outputs": [],
   "source": [
    "# given terms \n",
    "sX = 3.5\n",
    "sY = 2.7\n",
    "\n",
    "n = 30"
   ]
  },
  {
   "cell_type": "code",
   "execution_count": 14,
   "id": "90abb0b6",
   "metadata": {},
   "outputs": [
    {
     "data": {
      "text/plain": [
       "4.54328287814169"
      ]
     },
     "execution_count": 14,
     "metadata": {},
     "output_type": "execute_result"
    }
   ],
   "source": [
    "tstatistic = (Xbar - Ybar) / (np.sqrt((sX**2/n) + (sY**2/n)))\n",
    "tstatistic"
   ]
  },
  {
   "cell_type": "code",
   "execution_count": 19,
   "id": "42569d9b",
   "metadata": {},
   "outputs": [
    {
     "name": "stdout",
     "output_type": "stream",
     "text": [
      "2.8569359426205806e-05\n"
     ]
    }
   ],
   "source": [
    "from scipy.stats import t\n",
    "\n",
    "degree_of_freedom = n + n - 2\n",
    "# Calculate the cdf value \n",
    "cdf = t.cdf(-tstatistic,degree_of_freedom) # area under the curve left side thus -ve\n",
    "print(cdf*2) # p-value "
   ]
  },
  {
   "cell_type": "markdown",
   "id": "1f459603",
   "metadata": {},
   "source": [
    "p-value is very very less then 0.05 thus we reject the null hypothesis which states that there is no difference between average time spent by mobile and desktop users "
   ]
  },
  {
   "cell_type": "code",
   "execution_count": null,
   "id": "d7eb84b1",
   "metadata": {},
   "outputs": [],
   "source": []
  },
  {
   "cell_type": "code",
   "execution_count": null,
   "id": "0725ec5b",
   "metadata": {},
   "outputs": [],
   "source": []
  }
 ],
 "metadata": {
  "kernelspec": {
   "display_name": "Python 3",
   "language": "python",
   "name": "python3"
  },
  "language_info": {
   "codemirror_mode": {
    "name": "ipython",
    "version": 3
   },
   "file_extension": ".py",
   "mimetype": "text/x-python",
   "name": "python",
   "nbconvert_exporter": "python",
   "pygments_lexer": "ipython3",
   "version": "3.12.3"
  }
 },
 "nbformat": 4,
 "nbformat_minor": 5
}
